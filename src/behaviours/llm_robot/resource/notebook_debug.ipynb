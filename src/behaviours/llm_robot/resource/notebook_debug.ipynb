{
 "cells": [
  {
   "cell_type": "code",
   "execution_count": 1,
   "id": "6436325f",
   "metadata": {},
   "outputs": [],
   "source": [
    "import time\n",
    "import pyaubo_sdk\n",
    "class Aubo:\n",
    "    def __init__(self):\n",
    "        self.robot = None\n",
    "        self.cal_home_pose = None\n",
    "        self.user_coord = None\n",
    "        self.tcp_offset = None\n",
    "        self.cal_point3 = None\n",
    "        self.cal_point2 = None\n",
    "        self.cal_point1 = None\n",
    "        self.ee_line_velc = None\n",
    "        self.ee_line_acc = None\n",
    "        self.joint_velc = None\n",
    "        self.joint_acc = None\n",
    "        self.robot_ip = None\n",
    "        self.tcp_rpy = None\n",
    "        self.rpc_client,self.script_client = self._robot_init()\n",
    "\n",
    "    def _robot_init(self):\n",
    "        rpc_client = pyaubo_sdk.RpcClient()\n",
    "        rpc_client.setRequestTimeout(300000)\n",
    "        script_client = pyaubo_sdk.ScriptClient()\n",
    "        return rpc_client, script_client\n",
    "\n",
    "\n",
    "    def login(self,robot_ip):\n",
    "        rpc_port = 30004\n",
    "        script_port = 30002\n",
    "        result_rpc = self.rpc_client.connect(robot_ip, rpc_port)\n",
    "        result_script = self.script_client.connect(robot_ip,script_port)\n",
    "        if result_rpc != 0 and result_script !=0:\n",
    "            return False\n",
    "        else:\n",
    "            self.rpc_client.login(\"aubo\", \"123456\")\n",
    "            self.script_client.login(\"aubo\", \"123456\")\n",
    "            if self.rpc_client.hasLogined() and self.script_client.hasLogined():\n",
    "                robot_name = self.rpc_client.getRobotNames()[0]\n",
    "                self.robot = self.rpc_client.getRobotInterface(robot_name)\n",
    "\n",
    "\n",
    "        return result_rpc == 0 and result_script ==0\n",
    "\n",
    "    # 阻塞\n",
    "    def waitArrival(self):\n",
    "        cnt = 0\n",
    "        while self.robot.getMotionControl().getExecId() == -1:\n",
    "            cnt += 1\n",
    "            if cnt > 5:\n",
    "                print(\"Motion fail!\")\n",
    "                return -1\n",
    "            time.sleep(0.05)\n",
    "            print(\"getExecId: \", self.robot.getMotionControl().getExecId())\n",
    "        id = self.robot.getMotionControl().getExecId()\n",
    "        while True:\n",
    "            id1 = self.robot.getMotionControl().getExecId()\n",
    "            if id != id1:\n",
    "                break\n",
    "            time.sleep(0.05)\n",
    "\n",
    "\n",
    "\n",
    "    def goHome(self):\n",
    "        ret = self.robot.getMotionControl().moveJoint(self.cal_home_pose, self.joint_acc, self.joint_velc, 0, 0)\n",
    "        return ret\n",
    "\n",
    "    def getStatus(self):\n",
    "        return self.robot.getRobotState().isSteady()\n",
    "\n",
    "    def stop(self):\n",
    "        print('robot stop')\n",
    "        # return self.robot.getMotionControl().stopLine(self.ee_line_acc,self.ee_line_velc)\n",
    "        return self.robot.getMotionControl().stopJoint(self.joint_acc)\n",
    "\n",
    "    def robot_startup(self):\n",
    "        if not self.robot.getRobotState().isPowerOn():\n",
    "            if 0 == self.robot.getRobotManage().poweron():\n",
    "                print(\"The robot is requesting power-on!\")\n",
    "                if 0 == self.robot.getRobotManage().startup():  # 接口调用: 发起机器人启动请求\n",
    "                    print(\"The robot is requesting startup!\")\n",
    "                    # 循环直至机械臂松刹车成功\n",
    "                    while 1:\n",
    "                        robot_mode = self.robot.getRobotState().getRobotModeType()  # 接口调用: 获取机器人的模式类型\n",
    "                        print(\"Robot current mode: %s\" % (robot_mode.name))\n",
    "                        if robot_mode == pyaubo_sdk.RobotModeType.Running:\n",
    "                            break\n",
    "                        time.sleep(1)\n",
    "    def robot_poweroff(self):\n",
    "        if 0 == self.robot.getRobotManage().poweroff():\n",
    "            print(\"The robot is requesting power-off!\")\n",
    "    def exit(self):\n",
    "        if self.rpc_client.hasConnected():\n",
    "            self.rpc_client.disconnect()\n",
    "        if self.script_client.hasConnected():\n",
    "            self.script_client.disconnect()\n",
    "        return 0\n",
    "\n"
   ]
  },
  {
   "cell_type": "code",
   "execution_count": 3,
   "id": "29152efd",
   "metadata": {},
   "outputs": [
    {
     "name": "stderr",
     "output_type": "stream",
     "text": [
      "[Info] [connector_asio.h:110] Connect to 192.168.0.106:30004\n",
      "[Info] [rpc.cpp:116] SDK INTERFACE VERSION: 0.23.0\n",
      "[Info] [rpc.cpp:117] SERVER INTERFACE VERSION: 0.23.1\n",
      "[Info] [connector_asio.h:154] RPC Client login\n",
      "[Info] [connector_script_tcp.h:224] Script Client login\n",
      "[Info] [connector_script_tcp.h:53] Start aubo_script recv polling...\n"
     ]
    }
   ],
   "source": [
    "aubo = Aubo()\n",
    "aubo.login(robot_ip=\"192.168.0.106\")\n",
    "if aubo.rpc_client.hasLogined():\n",
    "    aubo.robot_startup()\n"
   ]
  },
  {
   "cell_type": "code",
   "execution_count": 6,
   "id": "4d7425e9",
   "metadata": {},
   "outputs": [
    {
     "name": "stdout",
     "output_type": "stream",
     "text": [
      "[-1.3762624598241155, 0.37081929445481526, 1.9833614483449218, 1.6306988926759154, 1.5603791271682912, 0.03204389293592429]\n"
     ]
    }
   ],
   "source": [
    "#打印当前关节角\n",
    "current_positions = aubo.robot.getRobotState().getJointPositions()\n",
    "print(current_positions)"
   ]
  },
  {
   "cell_type": "code",
   "execution_count": null,
   "id": "85c83d6e",
   "metadata": {},
   "outputs": [],
   "source": [
    "aubo.exit()"
   ]
  },
  {
   "cell_type": "code",
   "execution_count": 23,
   "id": "6823c78e",
   "metadata": {},
   "outputs": [
    {
     "name": "stdout",
     "output_type": "stream",
     "text": [
      "[ 0.70681733 -0.70708849 -0.02085663 -0.00035557]\n"
     ]
    }
   ],
   "source": [
    "from scipy.spatial.transform import Rotation as R\n",
    "import numpy as np\n",
    "# 设置 numpy 的打印选项\n",
    "np.set_printoptions(suppress=True)\n",
    "rot = R.from_euler('xyz', [3.11258322,  0.029991,   -1.57161497], degrees=False)\n",
    "rot_quat = rot.as_quat()\n",
    "print(rot_quat)"
   ]
  },
  {
   "cell_type": "code",
   "execution_count": 13,
   "id": "0bbaef46",
   "metadata": {},
   "outputs": [
    {
     "name": "stdout",
     "output_type": "stream",
     "text": [
      "[ 3.11258343  0.02999106 -1.57166646]\n"
     ]
    }
   ],
   "source": [
    "quat = [-0.7067991252811548, 0.7071066914673226, 0.02085656975139953, 0.0003562051881106084]\n",
    "rot = R.from_quat(quat).as_euler('xyz', degrees=False)\n",
    "print(rot)"
   ]
  },
  {
   "cell_type": "code",
   "execution_count": 21,
   "id": "f03c4ce0",
   "metadata": {},
   "outputs": [
    {
     "name": "stdout",
     "output_type": "stream",
     "text": [
      "[ 0.70681733 -0.70708849 -0.02085663 -0.00035557]\n"
     ]
    }
   ],
   "source": [
    "rot = R.from_euler('ZYX', [ -1.57161497, 0.029991,   3.11258322], degrees=False)\n",
    "rot_quat = rot.as_quat()\n",
    "print(rot_quat)"
   ]
  },
  {
   "cell_type": "code",
   "execution_count": 42,
   "id": "47ff701b",
   "metadata": {},
   "outputs": [
    {
     "name": "stdout",
     "output_type": "stream",
     "text": [
      "[ 3.11258343  0.02999106 -1.57166646]\n"
     ]
    }
   ],
   "source": [
    "quat = [-0.7067991252811548, 0.7071066914673226, 0.02085656975139953, 0.0003562051881106084]\n",
    "rot = R.from_quat(quat).as_euler('xyz', degrees=False)\n",
    "print(rot)"
   ]
  },
  {
   "cell_type": "code",
   "execution_count": 34,
   "id": "788c2621",
   "metadata": {},
   "outputs": [
    {
     "name": "stdout",
     "output_type": "stream",
     "text": [
      "[-1.57161496  0.02999099  3.11258322]\n"
     ]
    }
   ],
   "source": [
    "quat = [-0.02085663, -0.70708849, 0.70681733, -0.00035557]\n",
    "rot = R.from_quat(quat).as_euler('xyz', degrees=False)\n",
    "print(rot)"
   ]
  },
  {
   "cell_type": "code",
   "execution_count": 39,
   "id": "25a514af",
   "metadata": {},
   "outputs": [
    {
     "name": "stdout",
     "output_type": "stream",
     "text": [
      "(3.112583432455337, 0.029991056431805937, -1.571666457439996)\n",
      "(0.7067991252811547, -0.7071066914673226, -0.020856569751399538, -0.0003562051881106001)\n",
      "(3.112583432455337, 0.029991056431805933, -1.571666457439996)\n"
     ]
    }
   ],
   "source": [
    "from tf_transformations import euler_from_quaternion,quaternion_from_euler\n",
    "\n",
    "quaternion = [-0.7067991252811548, 0.7071066914673226, 0.02085656975139953, 0.0003562051881106084]\n",
    "\n",
    "euler = euler_from_quaternion(quaternion, axes='sxyz')\n",
    "print(euler)\n",
    "quat = quaternion_from_euler(*euler)\n",
    "print(quat)\n",
    "euler2 = euler_from_quaternion(quat, axes='sxyz')\n",
    "print(euler2)"
   ]
  },
  {
   "cell_type": "code",
   "execution_count": 51,
   "id": "b99973f0",
   "metadata": {},
   "outputs": [
    {
     "name": "stdout",
     "output_type": "stream",
     "text": [
      "[ 0.70681733 -0.70708849 -0.02085663 -0.00035557]\n"
     ]
    }
   ],
   "source": [
    "rot = R.from_euler('xyz', [ 3.11258322, 0.029991, -1.57161497  ], degrees=False)\n",
    "rot_quat = rot.as_quat()\n",
    "print(rot_quat)"
   ]
  },
  {
   "cell_type": "code",
   "execution_count": 54,
   "id": "e61fc437",
   "metadata": {},
   "outputs": [
    {
     "name": "stdout",
     "output_type": "stream",
     "text": [
      "(0.706817328650944, -0.7070884939671822, -0.020856634092090195, -0.00035557321892849304)\n"
     ]
    }
   ],
   "source": [
    "quat = quaternion_from_euler(3.11258322, 0.029991, -1.57161497,axes='sxyz')\n",
    "print(quat)"
   ]
  },
  {
   "cell_type": "code",
   "execution_count": 45,
   "id": "8bce47e4",
   "metadata": {},
   "outputs": [
    {
     "name": "stdout",
     "output_type": "stream",
     "text": [
      "Quat from Extrinsic XYZ: [0.70649142 0.70741413 0.00033806 0.02085687]\n",
      "Quat from Extrinsic ZYX: [ 0.70679912 -0.70710669 -0.02085657 -0.00035621]\n",
      "Quat from Intrinsic xyz: [ 0.70679912 -0.70710669 -0.02085657 -0.00035621]\n",
      "Quat from Intrinsic zyx: [0.70649142 0.70741413 0.00033806 0.02085687]\n"
     ]
    }
   ],
   "source": [
    "# 欧拉角\n",
    "euler_xyz = [3.11258343, 0.02999106, -1.57166646]\n",
    "euler_zyx = [-1.57166646, 0.02999106, 3.11258343]\n",
    "euler_xyz_intrinsic = [3.11258343, 0.02999106, -1.57166646]\n",
    "euler_zyx_intrinsic = [-1.57166646, 0.02999106, 3.11258343]\n",
    "# 转换为四元数（静态外旋）\n",
    "quat_xyz_extrinsic = R.from_euler('XYZ', euler_xyz, degrees=False).as_quat()\n",
    "quat_zyx_extrinsic = R.from_euler('ZYX', euler_zyx, degrees=False).as_quat()\n",
    "# 转换为四元数（动态内旋）\n",
    "quat_xyz_intrinsic = R.from_euler('xyz', euler_xyz_intrinsic, degrees=False).as_quat()\n",
    "\n",
    "quat_zyx_intrinsic = R.from_euler('zyx', euler_zyx_intrinsic, degrees=False).as_quat()\n",
    "print(\"Quat from Extrinsic XYZ:\", quat_xyz_extrinsic)\n",
    "print(\"Quat from Extrinsic ZYX:\", quat_zyx_extrinsic)\n",
    "print(\"Quat from Intrinsic xyz:\", quat_xyz_intrinsic)\n",
    "print(\"Quat from Intrinsic zyx:\", quat_zyx_intrinsic)"
   ]
  },
  {
   "cell_type": "code",
   "execution_count": 55,
   "id": "5f0ddb30",
   "metadata": {},
   "outputs": [
    {
     "name": "stdout",
     "output_type": "stream",
     "text": [
      "Quaternion from tf2 (static, sxyz): (0.7064914153128985, 0.7074141337407512, -0.0003380574808932082, 0.020856873930188473)\n",
      "Quaternion from tf2 (dynamic, rzyx): (-0.0003380574808932082, 0.7074141337407512, 0.7064914153128985, 0.020856873930188473)\n",
      "Quaternion from scipy (inner, xyz): [ 0.70649142  0.70741413 -0.00033806  0.02085687]\n",
      "Quaternion from scipy (outer, zyx): [ 0.02085657 -0.70710669  0.70679912 -0.00035621]\n",
      "Are tf2 (sxyz) and scipy (xyz) equivalent? True\n"
     ]
    },
    {
     "ename": "TypeError",
     "evalue": "bad operand type for unary -: 'tuple'",
     "output_type": "error",
     "traceback": [
      "\u001b[0;31m---------------------------------------------------------------------------\u001b[0m",
      "\u001b[0;31mTypeError\u001b[0m                                 Traceback (most recent call last)",
      "Cell \u001b[0;32mIn[55], line 30\u001b[0m\n\u001b[1;32m     27\u001b[0m     \u001b[38;5;28;01mreturn\u001b[39;00m np\u001b[38;5;241m.\u001b[39mallclose(quat1, quat2) \u001b[38;5;129;01mor\u001b[39;00m np\u001b[38;5;241m.\u001b[39mallclose(\u001b[38;5;241m-\u001b[39mquat1, quat2)\n\u001b[1;32m     29\u001b[0m \u001b[38;5;28mprint\u001b[39m(\u001b[38;5;124m\"\u001b[39m\u001b[38;5;124mAre tf2 (sxyz) and scipy (xyz) equivalent?\u001b[39m\u001b[38;5;124m\"\u001b[39m, check_quaternion_equivalence(quat_tf2_sxyz, quat_scipy_xyz))\n\u001b[0;32m---> 30\u001b[0m \u001b[38;5;28mprint\u001b[39m(\u001b[38;5;124m\"\u001b[39m\u001b[38;5;124mAre tf2 (rzyx) and scipy (zyx) equivalent?\u001b[39m\u001b[38;5;124m\"\u001b[39m, \u001b[43mcheck_quaternion_equivalence\u001b[49m\u001b[43m(\u001b[49m\u001b[43mquat_tf2_rzyx\u001b[49m\u001b[43m,\u001b[49m\u001b[43m \u001b[49m\u001b[43mquat_scipy_zyx\u001b[49m\u001b[43m)\u001b[49m)\n",
      "Cell \u001b[0;32mIn[55], line 27\u001b[0m, in \u001b[0;36mcheck_quaternion_equivalence\u001b[0;34m(quat1, quat2)\u001b[0m\n\u001b[1;32m     26\u001b[0m \u001b[38;5;28;01mdef\u001b[39;00m \u001b[38;5;21mcheck_quaternion_equivalence\u001b[39m(quat1, quat2):\n\u001b[0;32m---> 27\u001b[0m     \u001b[38;5;28;01mreturn\u001b[39;00m np\u001b[38;5;241m.\u001b[39mallclose(quat1, quat2) \u001b[38;5;129;01mor\u001b[39;00m np\u001b[38;5;241m.\u001b[39mallclose(\u001b[38;5;241;43m-\u001b[39;49m\u001b[43mquat1\u001b[49m, quat2)\n",
      "\u001b[0;31mTypeError\u001b[0m: bad operand type for unary -: 'tuple'"
     ]
    }
   ],
   "source": [
    "import numpy as np\n",
    "from tf_transformations import quaternion_from_euler\n",
    "from scipy.spatial.transform import Rotation as R\n",
    "\n",
    "# 欧拉角 [roll, pitch, yaw]\n",
    "angles = [3.11258343, 0.02999106, 1.57166646]\n",
    "\n",
    "# 使用 tf2 库\n",
    "# 默认使用静态（外旋）顺序 'sxyz'\n",
    "quat_tf2_sxyz = quaternion_from_euler(angles[0], angles[1], angles[2], 'sxyz')\n",
    "quat_tf2_rzyx = quaternion_from_euler(angles[0], angles[1], angles[2], 'rzyx')\n",
    "\n",
    "# 使用 scipy 库\n",
    "# 使用内旋顺序 'xyz'\n",
    "quat_scipy_xyz = R.from_euler('xyz', angles, degrees=False).as_quat()\n",
    "\n",
    "# 使用外旋顺序 'zyx'\n",
    "quat_scipy_zyx = R.from_euler('zyx', angles, degrees=False).as_quat()\n",
    "\n",
    "print(\"Quaternion from tf2 (static, sxyz):\", quat_tf2_sxyz)\n",
    "print(\"Quaternion from tf2 (dynamic, rzyx):\", quat_tf2_rzyx)\n",
    "print(\"Quaternion from scipy (inner, xyz):\", quat_scipy_xyz)\n",
    "print(\"Quaternion from scipy (outer, zyx):\", quat_scipy_zyx)\n",
    "\n",
    "# 检查四元数是否等价\n",
    "def check_quaternion_equivalence(quat1, quat2):\n",
    "    return np.allclose(quat1, quat2) or np.allclose(-quat1, quat2)\n",
    "\n",
    "print(\"Are tf2 (sxyz) and scipy (xyz) equivalent?\", check_quaternion_equivalence(quat_tf2_sxyz, quat_scipy_xyz))\n",
    "print(\"Are tf2 (rzyx) and scipy (zyx) equivalent?\", check_quaternion_equivalence(quat_tf2_rzyx, quat_scipy_zyx))"
   ]
  },
  {
   "cell_type": "code",
   "execution_count": 1,
   "id": "eb42e098",
   "metadata": {},
   "outputs": [
    {
     "name": "stdout",
     "output_type": "stream",
     "text": [
      "找到了红色方块和蓝色方块\n",
      "对象1: 红色方块\n",
      "对象2: 蓝色方块\n"
     ]
    }
   ],
   "source": [
    "def process_objects(**kwargs):\n",
    "    # 获取 kwargs 中的元素\n",
    "    object_1 = kwargs.get('object_1', '未指定')\n",
    "    object_2 = kwargs.get('object_2', '未指定')\n",
    "\n",
    "    # 根据元素执行不同的操作\n",
    "    if object_1 == '红色方块' and object_2 == '蓝色方块':\n",
    "        print(\"找到了红色方块和蓝色方块\")\n",
    "    else:\n",
    "        print(\"对象不符合预期\")\n",
    "\n",
    "    # 处理并打印\n",
    "    print(f\"对象1: {object_1}\")\n",
    "    print(f\"对象2: {object_2}\")\n",
    "\n",
    "# 调用函数并传递 kwargs\n",
    "kwargs = {'object_1': '红色方块', 'object_2': '蓝色方块'}\n",
    "process_objects(**kwargs)"
   ]
  },
  {
   "cell_type": "code",
   "execution_count": 2,
   "id": "56aa7362",
   "metadata": {},
   "outputs": [
    {
     "name": "stdout",
     "output_type": "stream",
     "text": [
      "{'function_call': [{'name': 'vlm_pick_and_place', 'params': '{\"object_1\": \"红色方块\", \"object_2\": \"蓝色方块\"}'}]}\n",
      "Function Name: vlm_pick_and_place\n",
      "Params: {'object_1': '红色方块', 'object_2': '蓝色方块'}\n"
     ]
    }
   ],
   "source": [
    "\n",
    "import json\n",
    "import ast\n",
    "\n",
    "# 原始的 Python 字典字符串\n",
    "json_string = \"{'function_call': [{'name': 'vlm_pick_and_place', 'params': '{\\\"object_1\\\": \\\"红色方块\\\", \\\"object_2\\\": \\\"蓝色方块\\\"}'}]}\"\n",
    "\n",
    "# 将 Python 字典字符串转换为字典\n",
    "data_dict = ast.literal_eval(json_string)\n",
    "\n",
    "# 将字典转换为 JSON 字符串\n",
    "json_data = json.dumps(data_dict)\n",
    "\n",
    "# 解析 JSON 字符串\n",
    "parsed_data = json.loads(json_data)\n",
    "\n",
    "# 打印解析后的数据\n",
    "print(parsed_data)\n",
    "\n",
    "# 提取具体的参数\n",
    "function_call = parsed_data.get('function_call', [])\n",
    "for func in function_call:\n",
    "    name = func.get('name', '')\n",
    "    params_str = func.get('params', '{}')\n",
    "    params = json.loads(params_str)\n",
    "    print(f\"Function Name: {name}\")\n",
    "    print(f\"Params: {params}\")"
   ]
  }
 ],
 "metadata": {
  "kernelspec": {
   "display_name": "Python 3 (ipykernel)",
   "language": "python",
   "name": "python3"
  },
  "language_info": {
   "codemirror_mode": {
    "name": "ipython",
    "version": 3
   },
   "file_extension": ".py",
   "mimetype": "text/x-python",
   "name": "python",
   "nbconvert_exporter": "python",
   "pygments_lexer": "ipython3",
   "version": "3.10.12"
  }
 },
 "nbformat": 4,
 "nbformat_minor": 5
}
